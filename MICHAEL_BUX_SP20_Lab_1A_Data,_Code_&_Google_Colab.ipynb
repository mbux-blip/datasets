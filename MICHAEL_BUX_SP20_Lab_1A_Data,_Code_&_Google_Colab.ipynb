{
  "nbformat": 4,
  "nbformat_minor": 0,
  "metadata": {
    "colab": {
      "name": "MICHAEL BUX - SP20 Lab 1A: Data, Code & Google Colab.ipynb",
      "provenance": [],
      "include_colab_link": true
    },
    "kernelspec": {
      "name": "python3",
      "display_name": "Python 3"
    }
  },
  "cells": [
    {
      "cell_type": "markdown",
      "metadata": {
        "id": "view-in-github",
        "colab_type": "text"
      },
      "source": [
        "<a href=\"https://colab.research.google.com/github/mbux-blip/datasets/blob/master/MICHAEL_BUX_SP20_Lab_1A_Data%2C_Code_%26_Google_Colab.ipynb\" target=\"_parent\"><img src=\"https://colab.research.google.com/assets/colab-badge.svg\" alt=\"Open In Colab\"/></a>"
      ]
    },
    {
      "cell_type": "markdown",
      "metadata": {
        "id": "sS3nyJQ7q8-P",
        "colab_type": "text"
      },
      "source": [
        "# Lab 1A: Data, Code & Google Colab\n",
        "\n",
        "The first step is to import your library pandas and assign it to an alias \"pd\""
      ]
    },
    {
      "cell_type": "code",
      "metadata": {
        "id": "dqwtZ1pPq94V",
        "colab_type": "code",
        "colab": {}
      },
      "source": [
        "import pandas as  pd"
      ],
      "execution_count": 0,
      "outputs": []
    },
    {
      "cell_type": "markdown",
      "metadata": {
        "id": "n7iQCcGTrLsz",
        "colab_type": "text"
      },
      "source": [
        "The next step is for you to import your data!  Luckly, it's hosted on GitHub.  Use the read_csv() function to import that good ol' data"
      ]
    },
    {
      "cell_type": "code",
      "metadata": {
        "id": "LQRFngYRZ7xw",
        "colab_type": "code",
        "colab": {}
      },
      "source": [
        "cdc = pd.read_csv(\"https://raw.githubusercontent.com/nschettini/datasets/master/cdc.csv\")"
      ],
      "execution_count": 0,
      "outputs": []
    },
    {
      "cell_type": "markdown",
      "metadata": {
        "id": "7Iwcj8MsrSdK",
        "colab_type": "text"
      },
      "source": [
        "Lets take a look at your data (this is the \"first\" question on your Lab Sheet that's in Google Classroom"
      ]
    },
    {
      "cell_type": "code",
      "metadata": {
        "id": "4lJZdShLaAXh",
        "colab_type": "code",
        "outputId": "812be117-dec3-4bd4-c0a3-4cfa5c7f3a53",
        "colab": {
          "base_uri": "https://localhost:8080/",
          "height": 898
        }
      },
      "source": [
        "cdc"
      ],
      "execution_count": 0,
      "outputs": [
        {
          "output_type": "execute_result",
          "data": {
            "text/html": [
              "<div>\n",
              "<style scoped>\n",
              "    .dataframe tbody tr th:only-of-type {\n",
              "        vertical-align: middle;\n",
              "    }\n",
              "\n",
              "    .dataframe tbody tr th {\n",
              "        vertical-align: top;\n",
              "    }\n",
              "\n",
              "    .dataframe thead th {\n",
              "        text-align: right;\n",
              "    }\n",
              "</style>\n",
              "<table border=\"1\" class=\"dataframe\">\n",
              "  <thead>\n",
              "    <tr style=\"text-align: right;\">\n",
              "      <th></th>\n",
              "      <th>Unnamed: 0</th>\n",
              "      <th>age</th>\n",
              "      <th>gender</th>\n",
              "      <th>grade</th>\n",
              "      <th>hisp_latino</th>\n",
              "      <th>race</th>\n",
              "      <th>height</th>\n",
              "      <th>weight</th>\n",
              "      <th>helmet</th>\n",
              "      <th>seat_belt</th>\n",
              "      <th>drive_text</th>\n",
              "      <th>fights</th>\n",
              "      <th>bully_school</th>\n",
              "      <th>bully_electronic</th>\n",
              "      <th>depressed</th>\n",
              "      <th>days_smoking</th>\n",
              "      <th>days_vaping</th>\n",
              "      <th>sexuality</th>\n",
              "      <th>describe_weight</th>\n",
              "      <th>drink_juice</th>\n",
              "      <th>eat_fruit</th>\n",
              "      <th>eat_salad</th>\n",
              "      <th>drink_soda</th>\n",
              "      <th>drink_milk</th>\n",
              "      <th>eat_breakfast</th>\n",
              "      <th>days_exercise_60</th>\n",
              "      <th>hours_tv</th>\n",
              "      <th>hours_videogame</th>\n",
              "      <th>number_teams</th>\n",
              "      <th>asthma</th>\n",
              "      <th>hours_sleep</th>\n",
              "      <th>drink_sportsdrink</th>\n",
              "      <th>drink_water</th>\n",
              "      <th>sunburns</th>\n",
              "    </tr>\n",
              "  </thead>\n",
              "  <tbody>\n",
              "    <tr>\n",
              "      <th>0</th>\n",
              "      <td>1</td>\n",
              "      <td>16 years old</td>\n",
              "      <td>Male</td>\n",
              "      <td>11th grade</td>\n",
              "      <td>No</td>\n",
              "      <td>Black or African American</td>\n",
              "      <td>1.73</td>\n",
              "      <td>54.43</td>\n",
              "      <td>Never wore a helmet</td>\n",
              "      <td>Always</td>\n",
              "      <td>I did not drive the past 30 days</td>\n",
              "      <td>2 or 3 times</td>\n",
              "      <td>Yes</td>\n",
              "      <td>Yes</td>\n",
              "      <td>No</td>\n",
              "      <td>NaN</td>\n",
              "      <td>3 to 5 days</td>\n",
              "      <td>Heterosexual (straight)</td>\n",
              "      <td>Slightly underweight</td>\n",
              "      <td>4 to 6 times</td>\n",
              "      <td>1 time per day</td>\n",
              "      <td>Did not eat green salad</td>\n",
              "      <td>4 to 6 times</td>\n",
              "      <td>Did not drink milk</td>\n",
              "      <td>3 days</td>\n",
              "      <td>5 days</td>\n",
              "      <td>3 hours per day</td>\n",
              "      <td>5 or more hours per day</td>\n",
              "      <td>0 teams</td>\n",
              "      <td>No</td>\n",
              "      <td>7 hours</td>\n",
              "      <td>Did not drink sports drink</td>\n",
              "      <td>1 time per day</td>\n",
              "      <td>0 times</td>\n",
              "    </tr>\n",
              "    <tr>\n",
              "      <th>1</th>\n",
              "      <td>2</td>\n",
              "      <td>16 years old</td>\n",
              "      <td>Female</td>\n",
              "      <td>11th grade</td>\n",
              "      <td>Yes</td>\n",
              "      <td>Multiple - Hispanic / Latino</td>\n",
              "      <td>1.50</td>\n",
              "      <td>51.26</td>\n",
              "      <td>Never wore a helmet</td>\n",
              "      <td>Always</td>\n",
              "      <td>I did not drive the past 30 days</td>\n",
              "      <td>0 times</td>\n",
              "      <td>No</td>\n",
              "      <td>No</td>\n",
              "      <td>No</td>\n",
              "      <td>0 days</td>\n",
              "      <td>0 days</td>\n",
              "      <td>Heterosexual (straight)</td>\n",
              "      <td>About the right weight</td>\n",
              "      <td>1 to 3 times</td>\n",
              "      <td>1 time per day</td>\n",
              "      <td>1 to 3 times</td>\n",
              "      <td>4 to 6 times</td>\n",
              "      <td>1 to 3 glasses</td>\n",
              "      <td>7 days</td>\n",
              "      <td>3 days</td>\n",
              "      <td>NaN</td>\n",
              "      <td>No playing video/computer game</td>\n",
              "      <td>0 teams</td>\n",
              "      <td>No</td>\n",
              "      <td>8 hours</td>\n",
              "      <td>Did not drink sports drink</td>\n",
              "      <td>2 times per day</td>\n",
              "      <td>0 times</td>\n",
              "    </tr>\n",
              "    <tr>\n",
              "      <th>2</th>\n",
              "      <td>3</td>\n",
              "      <td>17 years old</td>\n",
              "      <td>Male</td>\n",
              "      <td>12th grade</td>\n",
              "      <td>No</td>\n",
              "      <td>White</td>\n",
              "      <td>1.90</td>\n",
              "      <td>66.68</td>\n",
              "      <td>Did not ride a bicycle</td>\n",
              "      <td>Always</td>\n",
              "      <td>I did not drive the past 30 days</td>\n",
              "      <td>NaN</td>\n",
              "      <td>Yes</td>\n",
              "      <td>Yes</td>\n",
              "      <td>Yes</td>\n",
              "      <td>NaN</td>\n",
              "      <td>NaN</td>\n",
              "      <td>Gay or lesbian</td>\n",
              "      <td>About the right weight</td>\n",
              "      <td>4 to 6 times</td>\n",
              "      <td>1 time per day</td>\n",
              "      <td>Did not eat green salad</td>\n",
              "      <td>1 time per day</td>\n",
              "      <td>1 glass per day</td>\n",
              "      <td>5 days</td>\n",
              "      <td>3 days</td>\n",
              "      <td>No TV on average school day</td>\n",
              "      <td>4 hours per day</td>\n",
              "      <td>0 teams</td>\n",
              "      <td>NaN</td>\n",
              "      <td>8 hours</td>\n",
              "      <td>Did not drink sports drink</td>\n",
              "      <td>4 or more times per day</td>\n",
              "      <td>2 times</td>\n",
              "    </tr>\n",
              "    <tr>\n",
              "      <th>3</th>\n",
              "      <td>4</td>\n",
              "      <td>17 years old</td>\n",
              "      <td>Male</td>\n",
              "      <td>12th grade</td>\n",
              "      <td>No</td>\n",
              "      <td>White</td>\n",
              "      <td>NaN</td>\n",
              "      <td>NaN</td>\n",
              "      <td>Never wore a helmet</td>\n",
              "      <td>Always</td>\n",
              "      <td>3 to 5 days</td>\n",
              "      <td>1 time</td>\n",
              "      <td>No</td>\n",
              "      <td>No</td>\n",
              "      <td>Yes</td>\n",
              "      <td>1 or 2 days</td>\n",
              "      <td>1 or 2 days</td>\n",
              "      <td>Heterosexual (straight)</td>\n",
              "      <td>Slightly underweight</td>\n",
              "      <td>Did not drink fruit juice</td>\n",
              "      <td>1 to 3 times</td>\n",
              "      <td>Did not eat green salad</td>\n",
              "      <td>1 time per day</td>\n",
              "      <td>1 to 3 glasses</td>\n",
              "      <td>2 days</td>\n",
              "      <td>2 days</td>\n",
              "      <td>2 hours per day</td>\n",
              "      <td>3 hours per day</td>\n",
              "      <td>1 team</td>\n",
              "      <td>No</td>\n",
              "      <td>6 hours</td>\n",
              "      <td>1 to 3 times</td>\n",
              "      <td>1 time per day</td>\n",
              "      <td>0 times</td>\n",
              "    </tr>\n",
              "    <tr>\n",
              "      <th>4</th>\n",
              "      <td>5</td>\n",
              "      <td>16 years old</td>\n",
              "      <td>Female</td>\n",
              "      <td>11th grade</td>\n",
              "      <td>No</td>\n",
              "      <td>White</td>\n",
              "      <td>1.63</td>\n",
              "      <td>68.49</td>\n",
              "      <td>Did not ride a bicycle</td>\n",
              "      <td>Most of the time</td>\n",
              "      <td>I did not drive the past 30 days</td>\n",
              "      <td>0 times</td>\n",
              "      <td>Yes</td>\n",
              "      <td>No</td>\n",
              "      <td>Yes</td>\n",
              "      <td>10 to 19 days</td>\n",
              "      <td>All 30 days</td>\n",
              "      <td>Heterosexual (straight)</td>\n",
              "      <td>About the right weight</td>\n",
              "      <td>4 to 6 times</td>\n",
              "      <td>4 to 6 times</td>\n",
              "      <td>Did not eat green salad</td>\n",
              "      <td>1 to 3 times</td>\n",
              "      <td>Did not drink milk</td>\n",
              "      <td>0 days</td>\n",
              "      <td>0 days</td>\n",
              "      <td>Less than 1 hour per day</td>\n",
              "      <td>Less than 1 hour per day</td>\n",
              "      <td>0 teams</td>\n",
              "      <td>No</td>\n",
              "      <td>4 or less hours</td>\n",
              "      <td>1 to 3 times</td>\n",
              "      <td>4 or more times per day</td>\n",
              "      <td>1 times</td>\n",
              "    </tr>\n",
              "    <tr>\n",
              "      <th>...</th>\n",
              "      <td>...</td>\n",
              "      <td>...</td>\n",
              "      <td>...</td>\n",
              "      <td>...</td>\n",
              "      <td>...</td>\n",
              "      <td>...</td>\n",
              "      <td>...</td>\n",
              "      <td>...</td>\n",
              "      <td>...</td>\n",
              "      <td>...</td>\n",
              "      <td>...</td>\n",
              "      <td>...</td>\n",
              "      <td>...</td>\n",
              "      <td>...</td>\n",
              "      <td>...</td>\n",
              "      <td>...</td>\n",
              "      <td>...</td>\n",
              "      <td>...</td>\n",
              "      <td>...</td>\n",
              "      <td>...</td>\n",
              "      <td>...</td>\n",
              "      <td>...</td>\n",
              "      <td>...</td>\n",
              "      <td>...</td>\n",
              "      <td>...</td>\n",
              "      <td>...</td>\n",
              "      <td>...</td>\n",
              "      <td>...</td>\n",
              "      <td>...</td>\n",
              "      <td>...</td>\n",
              "      <td>...</td>\n",
              "      <td>...</td>\n",
              "      <td>...</td>\n",
              "      <td>...</td>\n",
              "    </tr>\n",
              "    <tr>\n",
              "      <th>15619</th>\n",
              "      <td>15620</td>\n",
              "      <td>15 years old</td>\n",
              "      <td>Female</td>\n",
              "      <td>9th grade</td>\n",
              "      <td>No</td>\n",
              "      <td>White</td>\n",
              "      <td>1.60</td>\n",
              "      <td>56.70</td>\n",
              "      <td>NaN</td>\n",
              "      <td>Most of the time</td>\n",
              "      <td>0 days</td>\n",
              "      <td>NaN</td>\n",
              "      <td>No</td>\n",
              "      <td>No</td>\n",
              "      <td>No</td>\n",
              "      <td>0 days</td>\n",
              "      <td>1 or 2 days</td>\n",
              "      <td>NaN</td>\n",
              "      <td>About the right weight</td>\n",
              "      <td>4 to 6 times</td>\n",
              "      <td>1 to 3 times</td>\n",
              "      <td>1 to 3 times</td>\n",
              "      <td>1 to 3 times</td>\n",
              "      <td>Did not drink milk</td>\n",
              "      <td>0 days</td>\n",
              "      <td>7 days</td>\n",
              "      <td>3 hours per day</td>\n",
              "      <td>2 hours per day</td>\n",
              "      <td>2 teams</td>\n",
              "      <td>Yes</td>\n",
              "      <td>7 hours</td>\n",
              "      <td>NaN</td>\n",
              "      <td>NaN</td>\n",
              "      <td>NaN</td>\n",
              "    </tr>\n",
              "    <tr>\n",
              "      <th>15620</th>\n",
              "      <td>15621</td>\n",
              "      <td>15 years old</td>\n",
              "      <td>Female</td>\n",
              "      <td>9th grade</td>\n",
              "      <td>No</td>\n",
              "      <td>White</td>\n",
              "      <td>1.60</td>\n",
              "      <td>61.24</td>\n",
              "      <td>NaN</td>\n",
              "      <td>Most of the time</td>\n",
              "      <td>0 days</td>\n",
              "      <td>NaN</td>\n",
              "      <td>No</td>\n",
              "      <td>No</td>\n",
              "      <td>No</td>\n",
              "      <td>0 days</td>\n",
              "      <td>0 days</td>\n",
              "      <td>NaN</td>\n",
              "      <td>Slightly overweight</td>\n",
              "      <td>1 to 3 times</td>\n",
              "      <td>1 to 3 times</td>\n",
              "      <td>1 to 3 times</td>\n",
              "      <td>1 to 3 times</td>\n",
              "      <td>Did not drink milk</td>\n",
              "      <td>1 day</td>\n",
              "      <td>4 days</td>\n",
              "      <td>Less than 1 hour per day</td>\n",
              "      <td>1 hour per day</td>\n",
              "      <td>3 or more teams</td>\n",
              "      <td>No</td>\n",
              "      <td>8 hours</td>\n",
              "      <td>NaN</td>\n",
              "      <td>NaN</td>\n",
              "      <td>NaN</td>\n",
              "    </tr>\n",
              "    <tr>\n",
              "      <th>15621</th>\n",
              "      <td>15622</td>\n",
              "      <td>17 years old</td>\n",
              "      <td>Male</td>\n",
              "      <td>10th grade</td>\n",
              "      <td>No</td>\n",
              "      <td>White</td>\n",
              "      <td>1.27</td>\n",
              "      <td>56.70</td>\n",
              "      <td>NaN</td>\n",
              "      <td>Most of the time</td>\n",
              "      <td>I did not drive the past 30 days</td>\n",
              "      <td>NaN</td>\n",
              "      <td>No</td>\n",
              "      <td>No</td>\n",
              "      <td>No</td>\n",
              "      <td>0 days</td>\n",
              "      <td>NaN</td>\n",
              "      <td>NaN</td>\n",
              "      <td>About the right weight</td>\n",
              "      <td>1 to 3 times</td>\n",
              "      <td>1 to 3 times</td>\n",
              "      <td>1 to 3 times</td>\n",
              "      <td>1 to 3 times</td>\n",
              "      <td>1 to 3 glasses</td>\n",
              "      <td>7 days</td>\n",
              "      <td>4 days</td>\n",
              "      <td>1 hour per day</td>\n",
              "      <td>3 hours per day</td>\n",
              "      <td>3 or more teams</td>\n",
              "      <td>No</td>\n",
              "      <td>6 hours</td>\n",
              "      <td>NaN</td>\n",
              "      <td>NaN</td>\n",
              "      <td>NaN</td>\n",
              "    </tr>\n",
              "    <tr>\n",
              "      <th>15622</th>\n",
              "      <td>15623</td>\n",
              "      <td>15 years old</td>\n",
              "      <td>Male</td>\n",
              "      <td>9th grade</td>\n",
              "      <td>No</td>\n",
              "      <td>White</td>\n",
              "      <td>1.80</td>\n",
              "      <td>58.51</td>\n",
              "      <td>NaN</td>\n",
              "      <td>Always</td>\n",
              "      <td>I did not drive the past 30 days</td>\n",
              "      <td>NaN</td>\n",
              "      <td>No</td>\n",
              "      <td>No</td>\n",
              "      <td>No</td>\n",
              "      <td>0 days</td>\n",
              "      <td>0 days</td>\n",
              "      <td>NaN</td>\n",
              "      <td>Slightly underweight</td>\n",
              "      <td>1 to 3 times</td>\n",
              "      <td>1 to 3 times</td>\n",
              "      <td>1 to 3 times</td>\n",
              "      <td>1 to 3 times</td>\n",
              "      <td>3 glasses per day</td>\n",
              "      <td>2 days</td>\n",
              "      <td>7 days</td>\n",
              "      <td>1 hour per day</td>\n",
              "      <td>3 hours per day</td>\n",
              "      <td>1 team</td>\n",
              "      <td>No</td>\n",
              "      <td>7 hours</td>\n",
              "      <td>NaN</td>\n",
              "      <td>NaN</td>\n",
              "      <td>NaN</td>\n",
              "    </tr>\n",
              "    <tr>\n",
              "      <th>15623</th>\n",
              "      <td>15624</td>\n",
              "      <td>15 years old</td>\n",
              "      <td>Male</td>\n",
              "      <td>10th grade</td>\n",
              "      <td>No</td>\n",
              "      <td>White</td>\n",
              "      <td>1.78</td>\n",
              "      <td>88.45</td>\n",
              "      <td>NaN</td>\n",
              "      <td>Most of the time</td>\n",
              "      <td>0 days</td>\n",
              "      <td>NaN</td>\n",
              "      <td>No</td>\n",
              "      <td>No</td>\n",
              "      <td>No</td>\n",
              "      <td>0 days</td>\n",
              "      <td>1 or 2 days</td>\n",
              "      <td>NaN</td>\n",
              "      <td>Slightly overweight</td>\n",
              "      <td>1 to 3 times</td>\n",
              "      <td>2 times per day</td>\n",
              "      <td>2 times per day</td>\n",
              "      <td>4 or more times per day</td>\n",
              "      <td>1 to 3 glasses</td>\n",
              "      <td>0 days</td>\n",
              "      <td>7 days</td>\n",
              "      <td>1 hour per day</td>\n",
              "      <td>No playing video/computer game</td>\n",
              "      <td>1 team</td>\n",
              "      <td>No</td>\n",
              "      <td>7 hours</td>\n",
              "      <td>NaN</td>\n",
              "      <td>NaN</td>\n",
              "      <td>NaN</td>\n",
              "    </tr>\n",
              "  </tbody>\n",
              "</table>\n",
              "<p>15624 rows × 34 columns</p>\n",
              "</div>"
            ],
            "text/plain": [
              "       Unnamed: 0           age  ...              drink_water sunburns\n",
              "0               1  16 years old  ...           1 time per day  0 times\n",
              "1               2  16 years old  ...          2 times per day  0 times\n",
              "2               3  17 years old  ...  4 or more times per day  2 times\n",
              "3               4  17 years old  ...           1 time per day  0 times\n",
              "4               5  16 years old  ...  4 or more times per day  1 times\n",
              "...           ...           ...  ...                      ...      ...\n",
              "15619       15620  15 years old  ...                      NaN      NaN\n",
              "15620       15621  15 years old  ...                      NaN      NaN\n",
              "15621       15622  17 years old  ...                      NaN      NaN\n",
              "15622       15623  15 years old  ...                      NaN      NaN\n",
              "15623       15624  15 years old  ...                      NaN      NaN\n",
              "\n",
              "[15624 rows x 34 columns]"
            ]
          },
          "metadata": {
            "tags": []
          },
          "execution_count": 5
        }
      ]
    },
    {
      "cell_type": "markdown",
      "metadata": {
        "id": "8-HJz2B8rZde",
        "colab_type": "text"
      },
      "source": [
        "Now, follow each question on the lab.  You can answer the questions in the word document, or, if you want, modify this document with the answers."
      ]
    },
    {
      "cell_type": "code",
      "metadata": {
        "id": "IpSVyo-Kq8cS",
        "colab_type": "code",
        "outputId": "d9028188-aa23-44cf-8c4c-cbe7adb124bf",
        "colab": {
          "base_uri": "https://localhost:8080/",
          "height": 34
        }
      },
      "source": [
        "cdc.shape"
      ],
      "execution_count": 0,
      "outputs": [
        {
          "output_type": "execute_result",
          "data": {
            "text/plain": [
              "(15624, 34)"
            ]
          },
          "metadata": {
            "tags": []
          },
          "execution_count": 6
        }
      ]
    },
    {
      "cell_type": "code",
      "metadata": {
        "id": "c1O7T6UlzwCM",
        "colab_type": "code",
        "outputId": "da676ee9-ba36-41c9-bae4-728f5db00d10",
        "colab": {
          "base_uri": "https://localhost:8080/",
          "height": 34
        }
      },
      "source": [
        "cdc.size"
      ],
      "execution_count": 0,
      "outputs": [
        {
          "output_type": "execute_result",
          "data": {
            "text/plain": [
              "531216"
            ]
          },
          "metadata": {
            "tags": []
          },
          "execution_count": 7
        }
      ]
    },
    {
      "cell_type": "code",
      "metadata": {
        "id": "sKPAXDxHz0VJ",
        "colab_type": "code",
        "outputId": "039094e3-d31e-4763-9c38-92d191b80b60",
        "colab": {
          "base_uri": "https://localhost:8080/",
          "height": 34
        }
      },
      "source": [
        "len(cdc.index)"
      ],
      "execution_count": 0,
      "outputs": [
        {
          "output_type": "execute_result",
          "data": {
            "text/plain": [
              "15624"
            ]
          },
          "metadata": {
            "tags": []
          },
          "execution_count": 8
        }
      ]
    },
    {
      "cell_type": "code",
      "metadata": {
        "id": "lmutZg7xz3lJ",
        "colab_type": "code",
        "outputId": "35bb214e-9ddb-4baf-f023-dc85fcb390a7",
        "colab": {
          "base_uri": "https://localhost:8080/",
          "height": 595
        }
      },
      "source": [
        "list(cdc.columns)"
      ],
      "execution_count": 0,
      "outputs": [
        {
          "output_type": "execute_result",
          "data": {
            "text/plain": [
              "['Unnamed: 0',\n",
              " 'age',\n",
              " 'gender',\n",
              " 'grade',\n",
              " 'hisp_latino',\n",
              " 'race',\n",
              " 'height',\n",
              " 'weight',\n",
              " 'helmet',\n",
              " 'seat_belt',\n",
              " 'drive_text',\n",
              " 'fights',\n",
              " 'bully_school',\n",
              " 'bully_electronic',\n",
              " 'depressed',\n",
              " 'days_smoking',\n",
              " 'days_vaping',\n",
              " 'sexuality',\n",
              " 'describe_weight',\n",
              " 'drink_juice',\n",
              " 'eat_fruit',\n",
              " 'eat_salad',\n",
              " 'drink_soda',\n",
              " 'drink_milk',\n",
              " 'eat_breakfast',\n",
              " 'days_exercise_60',\n",
              " 'hours_tv',\n",
              " 'hours_videogame',\n",
              " 'number_teams',\n",
              " 'asthma',\n",
              " 'hours_sleep',\n",
              " 'drink_sportsdrink',\n",
              " 'drink_water',\n",
              " 'sunburns']"
            ]
          },
          "metadata": {
            "tags": []
          },
          "execution_count": 9
        }
      ]
    },
    {
      "cell_type": "code",
      "metadata": {
        "id": "z5EESG0tz6cZ",
        "colab_type": "code",
        "outputId": "e07a87f0-92c7-4d59-e5f4-2f8c3c3601bf",
        "colab": {
          "base_uri": "https://localhost:8080/",
          "height": 595
        }
      },
      "source": [
        "list(cdc)"
      ],
      "execution_count": 0,
      "outputs": [
        {
          "output_type": "execute_result",
          "data": {
            "text/plain": [
              "['Unnamed: 0',\n",
              " 'age',\n",
              " 'gender',\n",
              " 'grade',\n",
              " 'hisp_latino',\n",
              " 'race',\n",
              " 'height',\n",
              " 'weight',\n",
              " 'helmet',\n",
              " 'seat_belt',\n",
              " 'drive_text',\n",
              " 'fights',\n",
              " 'bully_school',\n",
              " 'bully_electronic',\n",
              " 'depressed',\n",
              " 'days_smoking',\n",
              " 'days_vaping',\n",
              " 'sexuality',\n",
              " 'describe_weight',\n",
              " 'drink_juice',\n",
              " 'eat_fruit',\n",
              " 'eat_salad',\n",
              " 'drink_soda',\n",
              " 'drink_milk',\n",
              " 'eat_breakfast',\n",
              " 'days_exercise_60',\n",
              " 'hours_tv',\n",
              " 'hours_videogame',\n",
              " 'number_teams',\n",
              " 'asthma',\n",
              " 'hours_sleep',\n",
              " 'drink_sportsdrink',\n",
              " 'drink_water',\n",
              " 'sunburns']"
            ]
          },
          "metadata": {
            "tags": []
          },
          "execution_count": 10
        }
      ]
    },
    {
      "cell_type": "code",
      "metadata": {
        "id": "vV1FG0wJ0RrN",
        "colab_type": "code",
        "outputId": "f4d07464-0d92-4228-c85a-4c49ff95fca4",
        "colab": {
          "base_uri": "https://localhost:8080/",
          "height": 595
        }
      },
      "source": [
        "list(cdc.columns)"
      ],
      "execution_count": 0,
      "outputs": [
        {
          "output_type": "execute_result",
          "data": {
            "text/plain": [
              "['Unnamed: 0',\n",
              " 'age',\n",
              " 'gender',\n",
              " 'grade',\n",
              " 'hisp_latino',\n",
              " 'race',\n",
              " 'height',\n",
              " 'weight',\n",
              " 'helmet',\n",
              " 'seat_belt',\n",
              " 'drive_text',\n",
              " 'fights',\n",
              " 'bully_school',\n",
              " 'bully_electronic',\n",
              " 'depressed',\n",
              " 'days_smoking',\n",
              " 'days_vaping',\n",
              " 'sexuality',\n",
              " 'describe_weight',\n",
              " 'drink_juice',\n",
              " 'eat_fruit',\n",
              " 'eat_salad',\n",
              " 'drink_soda',\n",
              " 'drink_milk',\n",
              " 'eat_breakfast',\n",
              " 'days_exercise_60',\n",
              " 'hours_tv',\n",
              " 'hours_videogame',\n",
              " 'number_teams',\n",
              " 'asthma',\n",
              " 'hours_sleep',\n",
              " 'drink_sportsdrink',\n",
              " 'drink_water',\n",
              " 'sunburns']"
            ]
          },
          "metadata": {
            "tags": []
          },
          "execution_count": 11
        }
      ]
    },
    {
      "cell_type": "code",
      "metadata": {
        "id": "q4VPNo1c0bJh",
        "colab_type": "code",
        "outputId": "f091e84f-f4e3-4482-ef9a-9e555516e730",
        "colab": {
          "base_uri": "https://localhost:8080/",
          "height": 163
        }
      },
      "source": [
        "LIST(CDC>COLUMNS)"
      ],
      "execution_count": 0,
      "outputs": [
        {
          "output_type": "error",
          "ename": "NameError",
          "evalue": "ignored",
          "traceback": [
            "\u001b[0;31m---------------------------------------------------------------------------\u001b[0m",
            "\u001b[0;31mNameError\u001b[0m                                 Traceback (most recent call last)",
            "\u001b[0;32m<ipython-input-12-af8e321404f3>\u001b[0m in \u001b[0;36m<module>\u001b[0;34m()\u001b[0m\n\u001b[0;32m----> 1\u001b[0;31m \u001b[0mLIST\u001b[0m\u001b[0;34m(\u001b[0m\u001b[0mCDC\u001b[0m\u001b[0;34m>\u001b[0m\u001b[0mCOLUMNS\u001b[0m\u001b[0;34m)\u001b[0m\u001b[0;34m\u001b[0m\u001b[0;34m\u001b[0m\u001b[0m\n\u001b[0m",
            "\u001b[0;31mNameError\u001b[0m: name 'LIST' is not defined"
          ]
        }
      ]
    },
    {
      "cell_type": "code",
      "metadata": {
        "id": "effMMW630gC6",
        "colab_type": "code",
        "outputId": "9a08147b-24d8-4d65-9080-28ddcea55793",
        "colab": {
          "base_uri": "https://localhost:8080/",
          "height": 717
        }
      },
      "source": [
        "cdc['helemt'].value_counts().plot.bar()"
      ],
      "execution_count": 0,
      "outputs": [
        {
          "output_type": "error",
          "ename": "KeyError",
          "evalue": "ignored",
          "traceback": [
            "\u001b[0;31m---------------------------------------------------------------------------\u001b[0m",
            "\u001b[0;31mKeyError\u001b[0m                                  Traceback (most recent call last)",
            "\u001b[0;32m/usr/local/lib/python3.6/dist-packages/pandas/core/indexes/base.py\u001b[0m in \u001b[0;36mget_loc\u001b[0;34m(self, key, method, tolerance)\u001b[0m\n\u001b[1;32m   2896\u001b[0m             \u001b[0;32mtry\u001b[0m\u001b[0;34m:\u001b[0m\u001b[0;34m\u001b[0m\u001b[0;34m\u001b[0m\u001b[0m\n\u001b[0;32m-> 2897\u001b[0;31m                 \u001b[0;32mreturn\u001b[0m \u001b[0mself\u001b[0m\u001b[0;34m.\u001b[0m\u001b[0m_engine\u001b[0m\u001b[0;34m.\u001b[0m\u001b[0mget_loc\u001b[0m\u001b[0;34m(\u001b[0m\u001b[0mkey\u001b[0m\u001b[0;34m)\u001b[0m\u001b[0;34m\u001b[0m\u001b[0;34m\u001b[0m\u001b[0m\n\u001b[0m\u001b[1;32m   2898\u001b[0m             \u001b[0;32mexcept\u001b[0m \u001b[0mKeyError\u001b[0m\u001b[0;34m:\u001b[0m\u001b[0;34m\u001b[0m\u001b[0;34m\u001b[0m\u001b[0m\n",
            "\u001b[0;32mpandas/_libs/index.pyx\u001b[0m in \u001b[0;36mpandas._libs.index.IndexEngine.get_loc\u001b[0;34m()\u001b[0m\n",
            "\u001b[0;32mpandas/_libs/index.pyx\u001b[0m in \u001b[0;36mpandas._libs.index.IndexEngine.get_loc\u001b[0;34m()\u001b[0m\n",
            "\u001b[0;32mpandas/_libs/hashtable_class_helper.pxi\u001b[0m in \u001b[0;36mpandas._libs.hashtable.PyObjectHashTable.get_item\u001b[0;34m()\u001b[0m\n",
            "\u001b[0;32mpandas/_libs/hashtable_class_helper.pxi\u001b[0m in \u001b[0;36mpandas._libs.hashtable.PyObjectHashTable.get_item\u001b[0;34m()\u001b[0m\n",
            "\u001b[0;31mKeyError\u001b[0m: 'helemt'",
            "\nDuring handling of the above exception, another exception occurred:\n",
            "\u001b[0;31mKeyError\u001b[0m                                  Traceback (most recent call last)",
            "\u001b[0;32m<ipython-input-13-5ce230afaba2>\u001b[0m in \u001b[0;36m<module>\u001b[0;34m()\u001b[0m\n\u001b[0;32m----> 1\u001b[0;31m \u001b[0mcdc\u001b[0m\u001b[0;34m[\u001b[0m\u001b[0;34m'helemt'\u001b[0m\u001b[0;34m]\u001b[0m\u001b[0;34m.\u001b[0m\u001b[0mvalue_counts\u001b[0m\u001b[0;34m(\u001b[0m\u001b[0;34m)\u001b[0m\u001b[0;34m.\u001b[0m\u001b[0mplot\u001b[0m\u001b[0;34m.\u001b[0m\u001b[0mbar\u001b[0m\u001b[0;34m(\u001b[0m\u001b[0;34m)\u001b[0m\u001b[0;34m\u001b[0m\u001b[0;34m\u001b[0m\u001b[0m\n\u001b[0m",
            "\u001b[0;32m/usr/local/lib/python3.6/dist-packages/pandas/core/frame.py\u001b[0m in \u001b[0;36m__getitem__\u001b[0;34m(self, key)\u001b[0m\n\u001b[1;32m   2993\u001b[0m             \u001b[0;32mif\u001b[0m \u001b[0mself\u001b[0m\u001b[0;34m.\u001b[0m\u001b[0mcolumns\u001b[0m\u001b[0;34m.\u001b[0m\u001b[0mnlevels\u001b[0m \u001b[0;34m>\u001b[0m \u001b[0;36m1\u001b[0m\u001b[0;34m:\u001b[0m\u001b[0;34m\u001b[0m\u001b[0;34m\u001b[0m\u001b[0m\n\u001b[1;32m   2994\u001b[0m                 \u001b[0;32mreturn\u001b[0m \u001b[0mself\u001b[0m\u001b[0;34m.\u001b[0m\u001b[0m_getitem_multilevel\u001b[0m\u001b[0;34m(\u001b[0m\u001b[0mkey\u001b[0m\u001b[0;34m)\u001b[0m\u001b[0;34m\u001b[0m\u001b[0;34m\u001b[0m\u001b[0m\n\u001b[0;32m-> 2995\u001b[0;31m             \u001b[0mindexer\u001b[0m \u001b[0;34m=\u001b[0m \u001b[0mself\u001b[0m\u001b[0;34m.\u001b[0m\u001b[0mcolumns\u001b[0m\u001b[0;34m.\u001b[0m\u001b[0mget_loc\u001b[0m\u001b[0;34m(\u001b[0m\u001b[0mkey\u001b[0m\u001b[0;34m)\u001b[0m\u001b[0;34m\u001b[0m\u001b[0;34m\u001b[0m\u001b[0m\n\u001b[0m\u001b[1;32m   2996\u001b[0m             \u001b[0;32mif\u001b[0m \u001b[0mis_integer\u001b[0m\u001b[0;34m(\u001b[0m\u001b[0mindexer\u001b[0m\u001b[0;34m)\u001b[0m\u001b[0;34m:\u001b[0m\u001b[0;34m\u001b[0m\u001b[0;34m\u001b[0m\u001b[0m\n\u001b[1;32m   2997\u001b[0m                 \u001b[0mindexer\u001b[0m \u001b[0;34m=\u001b[0m \u001b[0;34m[\u001b[0m\u001b[0mindexer\u001b[0m\u001b[0;34m]\u001b[0m\u001b[0;34m\u001b[0m\u001b[0;34m\u001b[0m\u001b[0m\n",
            "\u001b[0;32m/usr/local/lib/python3.6/dist-packages/pandas/core/indexes/base.py\u001b[0m in \u001b[0;36mget_loc\u001b[0;34m(self, key, method, tolerance)\u001b[0m\n\u001b[1;32m   2897\u001b[0m                 \u001b[0;32mreturn\u001b[0m \u001b[0mself\u001b[0m\u001b[0;34m.\u001b[0m\u001b[0m_engine\u001b[0m\u001b[0;34m.\u001b[0m\u001b[0mget_loc\u001b[0m\u001b[0;34m(\u001b[0m\u001b[0mkey\u001b[0m\u001b[0;34m)\u001b[0m\u001b[0;34m\u001b[0m\u001b[0;34m\u001b[0m\u001b[0m\n\u001b[1;32m   2898\u001b[0m             \u001b[0;32mexcept\u001b[0m \u001b[0mKeyError\u001b[0m\u001b[0;34m:\u001b[0m\u001b[0;34m\u001b[0m\u001b[0;34m\u001b[0m\u001b[0m\n\u001b[0;32m-> 2899\u001b[0;31m                 \u001b[0;32mreturn\u001b[0m \u001b[0mself\u001b[0m\u001b[0;34m.\u001b[0m\u001b[0m_engine\u001b[0m\u001b[0;34m.\u001b[0m\u001b[0mget_loc\u001b[0m\u001b[0;34m(\u001b[0m\u001b[0mself\u001b[0m\u001b[0;34m.\u001b[0m\u001b[0m_maybe_cast_indexer\u001b[0m\u001b[0;34m(\u001b[0m\u001b[0mkey\u001b[0m\u001b[0;34m)\u001b[0m\u001b[0;34m)\u001b[0m\u001b[0;34m\u001b[0m\u001b[0;34m\u001b[0m\u001b[0m\n\u001b[0m\u001b[1;32m   2900\u001b[0m         \u001b[0mindexer\u001b[0m \u001b[0;34m=\u001b[0m \u001b[0mself\u001b[0m\u001b[0;34m.\u001b[0m\u001b[0mget_indexer\u001b[0m\u001b[0;34m(\u001b[0m\u001b[0;34m[\u001b[0m\u001b[0mkey\u001b[0m\u001b[0;34m]\u001b[0m\u001b[0;34m,\u001b[0m \u001b[0mmethod\u001b[0m\u001b[0;34m=\u001b[0m\u001b[0mmethod\u001b[0m\u001b[0;34m,\u001b[0m \u001b[0mtolerance\u001b[0m\u001b[0;34m=\u001b[0m\u001b[0mtolerance\u001b[0m\u001b[0;34m)\u001b[0m\u001b[0;34m\u001b[0m\u001b[0;34m\u001b[0m\u001b[0m\n\u001b[1;32m   2901\u001b[0m         \u001b[0;32mif\u001b[0m \u001b[0mindexer\u001b[0m\u001b[0;34m.\u001b[0m\u001b[0mndim\u001b[0m \u001b[0;34m>\u001b[0m \u001b[0;36m1\u001b[0m \u001b[0;32mor\u001b[0m \u001b[0mindexer\u001b[0m\u001b[0;34m.\u001b[0m\u001b[0msize\u001b[0m \u001b[0;34m>\u001b[0m \u001b[0;36m1\u001b[0m\u001b[0;34m:\u001b[0m\u001b[0;34m\u001b[0m\u001b[0;34m\u001b[0m\u001b[0m\n",
            "\u001b[0;32mpandas/_libs/index.pyx\u001b[0m in \u001b[0;36mpandas._libs.index.IndexEngine.get_loc\u001b[0;34m()\u001b[0m\n",
            "\u001b[0;32mpandas/_libs/index.pyx\u001b[0m in \u001b[0;36mpandas._libs.index.IndexEngine.get_loc\u001b[0;34m()\u001b[0m\n",
            "\u001b[0;32mpandas/_libs/hashtable_class_helper.pxi\u001b[0m in \u001b[0;36mpandas._libs.hashtable.PyObjectHashTable.get_item\u001b[0;34m()\u001b[0m\n",
            "\u001b[0;32mpandas/_libs/hashtable_class_helper.pxi\u001b[0m in \u001b[0;36mpandas._libs.hashtable.PyObjectHashTable.get_item\u001b[0;34m()\u001b[0m\n",
            "\u001b[0;31mKeyError\u001b[0m: 'helemt'"
          ]
        }
      ]
    },
    {
      "cell_type": "code",
      "metadata": {
        "id": "0O8jeAzkxaDa",
        "colab_type": "code",
        "colab": {}
      },
      "source": [
        ""
      ],
      "execution_count": 0,
      "outputs": []
    }
  ]
}