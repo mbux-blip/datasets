{
  "nbformat": 4,
  "nbformat_minor": 0,
  "metadata": {
    "colab": {
      "name": "MICHAEL BUX - Lab 1G -  What's the FREQ?.ipynb",
      "provenance": [],
      "collapsed_sections": [],
      "include_colab_link": true
    },
    "kernelspec": {
      "name": "python3",
      "display_name": "Python 3"
    }
  },
  "cells": [
    {
      "cell_type": "markdown",
      "metadata": {
        "id": "view-in-github",
        "colab_type": "text"
      },
      "source": [
        "<a href=\"https://colab.research.google.com/github/mbux-blip/datasets/blob/master/MICHAEL_BUX_Lab_1G_What's_the_FREQ%3F.ipynb\" target=\"_parent\"><img src=\"https://colab.research.google.com/assets/colab-badge.svg\" alt=\"Open In Colab\"/></a>"
      ]
    },
    {
      "cell_type": "markdown",
      "metadata": {
        "id": "v6ST-0RDc6xS",
        "colab_type": "text"
      },
      "source": [
        "# George Westinghouse CTE High School: **Computer Science Department**\n",
        "\n",
        "Course: **Intro to Data Science in Python**\n"
      ]
    },
    {
      "cell_type": "markdown",
      "metadata": {
        "id": "QngFZqquc82P",
        "colab_type": "text"
      },
      "source": [
        "# **Lab 1G - What's the FREQ?**\n",
        "\n"
      ]
    },
    {
      "cell_type": "markdown",
      "metadata": {
        "id": "xi7-WBGOiOoL",
        "colab_type": "text"
      },
      "source": [
        "The first step for our analysis is to import our libraries"
      ]
    },
    {
      "cell_type": "code",
      "metadata": {
        "id": "53rkheHcc8NU",
        "colab_type": "code",
        "colab": {}
      },
      "source": [
        "import pandas as pd\n",
        "import matplotlib.pyplot as plt\n",
        "import seaborn as sns "
      ],
      "execution_count": 0,
      "outputs": []
    },
    {
      "cell_type": "markdown",
      "metadata": {
        "id": "f_IgPgi9iTkZ",
        "colab_type": "text"
      },
      "source": [
        "The next step is to import our dataset and assign it to a variable called **atu_clean**"
      ]
    },
    {
      "cell_type": "code",
      "metadata": {
        "id": "FwY39eM9dE0U",
        "colab_type": "code",
        "colab": {}
      },
      "source": [
        "#load the data and assign it to the variable atu_clean\n",
        "atu_clean = pd.read_csv(\"https://raw.githubusercontent.com/nschettini/datasets/master/atu_clean%20(1).csv\")"
      ],
      "execution_count": 0,
      "outputs": []
    },
    {
      "cell_type": "markdown",
      "metadata": {
        "id": "y8yGK8m4sAjZ",
        "colab_type": "text"
      },
      "source": [
        "# **Clean it up!**\n",
        "\n",
        "* In Lab 1F, we saw how we could clean data to make it easier to use and analyze.\n",
        " * Using the data you cleaned, we can start analyzing a small set of variables from the American Time Use (ATU) survey.\n",
        " * The process of cleaning and then analyzing data is very common in Data Science.\n",
        "* In this lab, we'll learn how we can create frequency tables to detect relationships between categorical variables.\n",
        " * Use the data() function to load the atu_clean data file to use in this lab."
      ]
    },
    {
      "cell_type": "markdown",
      "metadata": {
        "id": "kjdyj-8ksKqI",
        "colab_type": "text"
      },
      "source": [
        "# **How do we summarize categorical variables?**\n",
        "\n",
        "* When we're dealing with categorical variables, we can't just calculate an average todescribe a typical value.\n",
        " * (Honestly, what's the average of categories orange, apple and banana, for\n",
        "instance?)\n",
        "\n",
        "* When trying to describe categorical variables with numbers, we calculate frequency tables"
      ]
    },
    {
      "cell_type": "markdown",
      "metadata": {
        "id": "nPebGY5IsS1w",
        "colab_type": "text"
      },
      "source": [
        "# **Frequency tables?**\n",
        "\n",
        "* When it comes to categories, about all you can do is count or tally how often each categorycomes up in the data.\n",
        "* Fill in the blanks below to answer the following: \n",
        "\n",
        "**How many more females than males arethere in our ATU data??**\n",
        "\n",
        "There are 1,153 more females\n",
        "\n",
        "\n",
        "---\n",
        "\n",
        "`atu_clean.groupby(['___']).size()`\n",
        "\n",
        "---\n",
        "\n"
      ]
    },
    {
      "cell_type": "code",
      "metadata": {
        "id": "iST19oHdsQi7",
        "colab_type": "code",
        "colab": {
          "base_uri": "https://localhost:8080/",
          "height": 85
        },
        "outputId": "98efcda2-1563-4e45-a109-792f78862761"
      },
      "source": [
        "atu_clean.groupby(['gender']).size()"
      ],
      "execution_count": 5,
      "outputs": [
        {
          "output_type": "execute_result",
          "data": {
            "text/plain": [
              "gender\n",
              "Female    5823\n",
              "Male      4670\n",
              "dtype: int64"
            ]
          },
          "metadata": {
            "tags": []
          },
          "execution_count": 5
        }
      ]
    },
    {
      "cell_type": "markdown",
      "metadata": {
        "id": "Nv4vrDjsus0n",
        "colab_type": "text"
      },
      "source": [
        "Good job ... You got it to work!  Simple, huh?  However, it doesn't \"look\" that nice.  Try this code and see how it looks:\n",
        "\n",
        "\n",
        "---\n",
        "\n",
        "`atu_clean.groupby(['____']).size().to_frame()`\n",
        "\n",
        "---\n",
        "\n"
      ]
    },
    {
      "cell_type": "code",
      "metadata": {
        "id": "Ye5kAreIsl78",
        "colab_type": "code",
        "colab": {
          "base_uri": "https://localhost:8080/",
          "height": 142
        },
        "outputId": "bdf5a1bf-4833-4b94-c041-8731a5fd5908"
      },
      "source": [
        "atu_clean.groupby(['gender']).size().to_frame()"
      ],
      "execution_count": 6,
      "outputs": [
        {
          "output_type": "execute_result",
          "data": {
            "text/html": [
              "<div>\n",
              "<style scoped>\n",
              "    .dataframe tbody tr th:only-of-type {\n",
              "        vertical-align: middle;\n",
              "    }\n",
              "\n",
              "    .dataframe tbody tr th {\n",
              "        vertical-align: top;\n",
              "    }\n",
              "\n",
              "    .dataframe thead th {\n",
              "        text-align: right;\n",
              "    }\n",
              "</style>\n",
              "<table border=\"1\" class=\"dataframe\">\n",
              "  <thead>\n",
              "    <tr style=\"text-align: right;\">\n",
              "      <th></th>\n",
              "      <th>0</th>\n",
              "    </tr>\n",
              "    <tr>\n",
              "      <th>gender</th>\n",
              "      <th></th>\n",
              "    </tr>\n",
              "  </thead>\n",
              "  <tbody>\n",
              "    <tr>\n",
              "      <th>Female</th>\n",
              "      <td>5823</td>\n",
              "    </tr>\n",
              "    <tr>\n",
              "      <th>Male</th>\n",
              "      <td>4670</td>\n",
              "    </tr>\n",
              "  </tbody>\n",
              "</table>\n",
              "</div>"
            ],
            "text/plain": [
              "           0\n",
              "gender      \n",
              "Female  5823\n",
              "Male    4670"
            ]
          },
          "metadata": {
            "tags": []
          },
          "execution_count": 6
        }
      ]
    },
    {
      "cell_type": "markdown",
      "metadata": {
        "id": "FXFPIuaVwa4U",
        "colab_type": "text"
      },
      "source": [
        "Good work.  .groupby() is actually one of the MOST important functions you'll ever use as a data scientist.\n",
        "\n",
        "# **2-way Frequency Tables**\n",
        "\n",
        "* Counting the categories of a single variable is nice, but often times we want to make comparisons.\n",
        "* Use a line of code to tally the number of people with physical challenges and their genders.\n",
        "\n",
        "`atu_clean.groupby(['____', '_____']).size().to_frame()`\n",
        "\n",
        " * **Does one gender seem to have a higher occurrence of physical challenges\n",
        "than the other? If so, which one and explain your reasoning?** Ans here.  Females had a higher occurance in having difficultly than the males by 245."
      ]
    },
    {
      "cell_type": "code",
      "metadata": {
        "id": "Lr3Bre_XwyT2",
        "colab_type": "code",
        "colab": {
          "base_uri": "https://localhost:8080/",
          "height": 204
        },
        "outputId": "f090ecc1-f31d-4cc7-f091-48470a8dec19"
      },
      "source": [
        "atu_clean.groupby(['gender','phys_challenge']).size().to_frame()"
      ],
      "execution_count": 8,
      "outputs": [
        {
          "output_type": "execute_result",
          "data": {
            "text/html": [
              "<div>\n",
              "<style scoped>\n",
              "    .dataframe tbody tr th:only-of-type {\n",
              "        vertical-align: middle;\n",
              "    }\n",
              "\n",
              "    .dataframe tbody tr th {\n",
              "        vertical-align: top;\n",
              "    }\n",
              "\n",
              "    .dataframe thead th {\n",
              "        text-align: right;\n",
              "    }\n",
              "</style>\n",
              "<table border=\"1\" class=\"dataframe\">\n",
              "  <thead>\n",
              "    <tr style=\"text-align: right;\">\n",
              "      <th></th>\n",
              "      <th></th>\n",
              "      <th>0</th>\n",
              "    </tr>\n",
              "    <tr>\n",
              "      <th>gender</th>\n",
              "      <th>phys_challenge</th>\n",
              "      <th></th>\n",
              "    </tr>\n",
              "  </thead>\n",
              "  <tbody>\n",
              "    <tr>\n",
              "      <th rowspan=\"2\" valign=\"top\">Female</th>\n",
              "      <th>Has difficulty</th>\n",
              "      <td>775</td>\n",
              "    </tr>\n",
              "    <tr>\n",
              "      <th>No difficulty</th>\n",
              "      <td>5048</td>\n",
              "    </tr>\n",
              "    <tr>\n",
              "      <th rowspan=\"2\" valign=\"top\">Male</th>\n",
              "      <th>Has difficulty</th>\n",
              "      <td>530</td>\n",
              "    </tr>\n",
              "    <tr>\n",
              "      <th>No difficulty</th>\n",
              "      <td>4140</td>\n",
              "    </tr>\n",
              "  </tbody>\n",
              "</table>\n",
              "</div>"
            ],
            "text/plain": [
              "                          0\n",
              "gender phys_challenge      \n",
              "Female Has difficulty   775\n",
              "       No difficulty   5048\n",
              "Male   Has difficulty   530\n",
              "       No difficulty   4140"
            ]
          },
          "metadata": {
            "tags": []
          },
          "execution_count": 8
        }
      ]
    },
    {
      "cell_type": "markdown",
      "metadata": {
        "id": "GmmqJ7fJxKa2",
        "colab_type": "text"
      },
      "source": [
        "# **Interpreting 2-way frequency tables**\n",
        "\n",
        "* Recall that there were 1153 more women than men in our data set.\n",
        " * If there are more women, then we might expect women to have more physical\n",
        "challenges (compared to men).\n",
        "* Instead of using counts we use percentages.\n",
        "\n",
        "* **Recode your code from before - making a 2-way Frequency table.  This time, assign it to a variable of your choosing - such as atu_freq.**\n",
        "\n",
        "For example:\n",
        "\n",
        "```\n",
        "atu_freq = atu_clean.groupby....\n",
        "```\n",
        "\n",
        "Then, in another cell, run the following code\n",
        "\n",
        "`print(atu_freq/len(atu_clean))`\n",
        "\n",
        "\n",
        " * **Does one gender seem to have a higher occurence of physical challenges\n",
        "than the other? If so, which one and explain your reasoning?**\n",
        " * **Did your answer change from before? Why?** \n",
        " There is a higher occurance in difficulty for females rather than males."
      ]
    },
    {
      "cell_type": "code",
      "metadata": {
        "id": "-kUlSKv9z9GJ",
        "colab_type": "code",
        "colab": {}
      },
      "source": [
        "atu_freq = atu_clean.groupby(['gender','phys_challenge']).size().to_frame()"
      ],
      "execution_count": 0,
      "outputs": []
    },
    {
      "cell_type": "code",
      "metadata": {
        "id": "Wu7gtjY80BG-",
        "colab_type": "code",
        "colab": {
          "base_uri": "https://localhost:8080/",
          "height": 119
        },
        "outputId": "e7677216-e956-4bb3-8111-254894f51254"
      },
      "source": [
        "print(atu_freq/len(atu_clean))"
      ],
      "execution_count": 11,
      "outputs": [
        {
          "output_type": "stream",
          "text": [
            "                              0\n",
            "gender phys_challenge          \n",
            "Female Has difficulty  0.073859\n",
            "       No difficulty   0.481083\n",
            "Male   Has difficulty  0.050510\n",
            "       No difficulty   0.394549\n"
          ],
          "name": "stdout"
        }
      ]
    },
    {
      "cell_type": "code",
      "metadata": {
        "id": "kfhNAuaT02ER",
        "colab_type": "code",
        "colab": {}
      },
      "source": [
        ""
      ],
      "execution_count": 0,
      "outputs": []
    }
  ]
}